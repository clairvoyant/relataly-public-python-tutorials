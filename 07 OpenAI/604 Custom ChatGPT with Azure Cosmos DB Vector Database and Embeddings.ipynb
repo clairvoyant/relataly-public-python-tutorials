{
 "cells": [
  {
   "attachments": {},
   "cell_type": "markdown",
   "metadata": {},
   "source": [
    "# Step #1 Setup Cosmos Vector DB and OpenAI Service"
   ]
  },
  {
   "cell_type": "code",
   "execution_count": 46,
   "metadata": {},
   "outputs": [
    {
     "name": "stdout",
     "output_type": "stream",
     "text": [
      "keyvault service ready\n",
      "public openai service ready\n",
      "Pinged your deployment. You successfully connected to MongoDB!\n",
      "You are using the database: Database(MongoClient(host=['c.hexacluster.mongocluster.cosmos.azure.com:10260'], document_class=dict, tz_aware=False, connect=True, tls=True, authmechanism='SCRAM-SHA-256', retrywrites=False, maxidletimems=120000), 'customgpt')\n",
      "You are using the collection: Collection(Database(MongoClient(host=['c.hexacluster.mongocluster.cosmos.azure.com:10260'], document_class=dict, tz_aware=False, connect=True, tls=True, authmechanism='SCRAM-SHA-256', retrywrites=False, maxidletimems=120000), 'customgpt'), 'pdfcontent')\n"
     ]
    }
   ],
   "source": [
    "# preview version - work in progress\n",
    "\n",
    "from azure.identity import AzureCliCredential\n",
    "from azure.keyvault.secrets import SecretClient\n",
    "import openai\n",
    "import logging\n",
    "import tiktoken\n",
    "import pandas as pd\n",
    "import pymongo\n",
    "from dotenv import load_dotenv\n",
    "load_dotenv()\n",
    "import PyPDF2\n",
    "import re\n",
    "\n",
    "# Set up the Azure Key Vault client and retrieve the Blob Storage account credentials\n",
    "keyvault_name = 'ffkeyvault731'\n",
    "azure_openai_resouce_name = 'openai713'\n",
    "DB_NAME = \"customgpt\"\n",
    "COLLECTION_NAME = 'pdfcontent'\n",
    "\n",
    "client = SecretClient(f\"https://{keyvault_name}.vault.azure.net/\", AzureCliCredential())\n",
    "print('keyvault service ready')\n",
    "\n",
    "# AzureOpenAI Service\n",
    "def setup_azureopenai():\n",
    "    openai.api_key = client.get_secret('openai-api-key').value\n",
    "    openai.api_type = \"azure\"\n",
    "    openai.api_base = f'https://{azure_openai_resouce_name}.openai.azure.com'\n",
    "    openai.api_version = '2023-05-15'\n",
    "    print('azure openai service ready')\n",
    "\n",
    "# public openai service\n",
    "def setup_public_openai():\n",
    "    openai.api_key = client.get_secret('openai-api-key-public').value\n",
    "    print('public openai service ready')\n",
    "\n",
    "\n",
    "def setup_cosmos_connection():\n",
    "    COSMOS_CLUSTER_CONNECTION_STRING = client.get_secret('cosmos-cluster-string').value\n",
    "    cosmosclient = pymongo.MongoClient(COSMOS_CLUSTER_CONNECTION_STRING)\n",
    "\n",
    "    db = cosmosclient[DB_NAME]\n",
    "    collection = cosmosclient[DB_NAME][COLLECTION_NAME]\n",
    "\n",
    "    # Send a ping to confirm a successful connection\n",
    "    try:\n",
    "        cosmosclient.admin.command('ping')\n",
    "        print(\"Pinged your deployment. You successfully connected to MongoDB!\")\n",
    "        print(\"You are using the database:\", db)\n",
    "        print(\"You are using the collection:\", collection)\n",
    "\n",
    "    except Exception as e:\n",
    "        print(e)\n",
    "    return collection, db\n",
    "\n",
    "setup_public_openai()\n",
    "collection, db = setup_cosmos_connection()"
   ]
  },
  {
   "attachments": {},
   "cell_type": "markdown",
   "metadata": {},
   "source": [
    "# Step #2 Functions for Populating the Vector DB"
   ]
  },
  {
   "cell_type": "code",
   "execution_count": 41,
   "metadata": {},
   "outputs": [],
   "source": [
    "# prepare content for insertion into cosmos db\n",
    "def prepare_content(text_content):\n",
    "  embeddings = create_embeddings_with_openai(text_content)\n",
    "  request = [\n",
    "    {\n",
    "    \"textContent\": text_content, \n",
    "    \"vectorContent\": embeddings}\n",
    "  ]\n",
    "  return request\n",
    "\n",
    "\n",
    "# create embeddings\n",
    "def create_embeddings_with_openai(input):\n",
    "    #print('Generating response from OpenAI...')\n",
    "\n",
    "    ###### uncomment for AzureOpenAI model usage and comment code below\n",
    "    # embeddings = openai.Embedding.create( \n",
    "    #     engine='<name of the embedding deployment >', \n",
    "    #     input=input)[\"data\"][0][\"embedding\"]\n",
    "\n",
    "    ###### public openai model usage and comment code above\n",
    "    embeddings = openai.Embedding.create(\n",
    "        model='text-embedding-ada-002', \n",
    "        input=input)[\"data\"][0][\"embedding\"]\n",
    "    \n",
    "    # Number of embeddings    \n",
    "    # print(len(embeddings))\n",
    "\n",
    "    return embeddings\n",
    "\n",
    "\n",
    "# insert the requests\n",
    "def insert_requests(text_input):\n",
    "    request = prepare_content(text_input)\n",
    "    return collection.insert_many(request).inserted_ids\n",
    "\n",
    "\n",
    "# Creates a searchable index for the vector content\n",
    "def create_index():\n",
    "  \n",
    "  # delete and recreate the index. This might only be necessary once.\n",
    "  collection.drop_indexes()\n",
    "\n",
    "  embedding_len = 1536\n",
    "  print(f'creating index with embedding length: {embedding_len}')\n",
    "  db.command({\n",
    "    'createIndexes': COLLECTION_NAME,\n",
    "    'indexes': [\n",
    "      {\n",
    "        'name': 'vectorSearchIndex',\n",
    "        'key': {\n",
    "          \"vectorContent\": \"cosmosSearch\"\n",
    "        },\n",
    "        'cosmosSearchOptions': {\n",
    "          'kind': 'vector-ivf',\n",
    "          'numLists': 100,\n",
    "          'similarity': 'COS',\n",
    "          'dimensions': embedding_len\n",
    "        }\n",
    "      }\n",
    "    ]\n",
    "  })\n",
    "\n",
    "# Resets the DB and deletes all values from the collection to avoid dublicates\n",
    "#collection.delete_many({})"
   ]
  },
  {
   "attachments": {},
   "cell_type": "markdown",
   "metadata": {},
   "source": [
    "# Step #3 - Document Cracking, Creating Embeddings and Insert into Cosmos DB"
   ]
  },
  {
   "cell_type": "code",
   "execution_count": 42,
   "metadata": {},
   "outputs": [
    {
     "name": "stdout",
     "output_type": "stream",
     "text": [
      "99 vectors created with maximum 20 sentences each.\n",
      "Kanton Zürich\n",
      "Steueramt\n",
      "Wegleitung zur \n",
      "Steuererklärung2022\n",
      "Reichen Sie Ihre Steuererklärung online \n",
      "-------------------\n",
      "A\n",
      "Abonnementskosten (ZVV etc.)  15\n",
      "AHV (Beiträge an die AHV)  18\n",
      "AHV-Renten  11\n",
      "Aktien  29\n",
      "Alimente \n",
      "-------------------\n",
      "3Kanton Zürich\n",
      "Steueramt\n",
      "Wegleitung zur  \n",
      "Steuererklärung2022\n",
      "Reichen Sie Ihre Steuererklärung onlin\n",
      "-------------------\n",
      "4Wer hat im Kalenderjahr 2023 \n",
      "eine Steuererklärung 2022 \n",
      " einzureichen?Eine Steuererklärung 2022 ha\n",
      "-------------------\n",
      "Die Steuererklärungspflicht im Kanton Zürich ist durch Einreichung der vollständig ausgefüllten \n",
      "und\n",
      "-------------------\n",
      "creating index with embedding length: 1536\n",
      "278\n"
     ]
    }
   ],
   "source": [
    "# document cracking function to insert data from the excel sheet\n",
    "\n",
    "def split_text_into_paragraphs(text):\n",
    "    paragraphs = re.split(r'\\n{2,}', text)\n",
    "    return paragraphs\n",
    "\n",
    "def slice_pdf_into_records(pdf_path, max_sentences):\n",
    "    records = []\n",
    "    \n",
    "    with open(pdf_path, 'rb') as file:\n",
    "        reader = PyPDF2.PdfReader(file)\n",
    "        \n",
    "        for page in reader.pages:\n",
    "            text = page.extract_text()\n",
    "            paragraphs = split_text_into_paragraphs(text)\n",
    "            \n",
    "            current_record = ''\n",
    "            sentence_count = 0\n",
    "            \n",
    "            for paragraph in paragraphs:\n",
    "                sentences = re.split(r'(?<=[.!?])\\s+', paragraph)\n",
    "                \n",
    "                for sentence in sentences:\n",
    "                    current_record += sentence\n",
    "                    \n",
    "                    sentence_count += 1\n",
    "                    \n",
    "                    if sentence_count >= max_sentences:\n",
    "                        records.append(current_record)\n",
    "                        current_record = ''\n",
    "                        sentence_count = 0\n",
    "                \n",
    "                if sentence_count < max_sentences:\n",
    "                    current_record += ' '  # Add space between paragraphs\n",
    "            \n",
    "            # If there is remaining text after the loop, add it as a record\n",
    "            if current_record:\n",
    "                records.append(current_record)\n",
    "    \n",
    "    return records\n",
    "\n",
    "# get file from root/data folder\n",
    "pdf_path = '../data/vector_db_data/zurich_tax_info_2023.pdf'\n",
    "\n",
    "max_sentences = 20  # Adjust the slice size as per your requirement\n",
    "\n",
    "result = slice_pdf_into_records(pdf_path, max_sentences)\n",
    "\n",
    "# print the length of result\n",
    "print(f'{len(result)} vectors created with maximum {max_sentences} sentences each.')\n",
    "\n",
    "# Print the sliced records\n",
    "for i, record in enumerate(result):\n",
    "    insert_requests(record)\n",
    "    if i < 5:\n",
    "        print(record[0:100])\n",
    "        print('-------------------')\n",
    "\n",
    "create_index()\n",
    "\n",
    "print(f'number of records in the vector DB: {collection.count_documents({})}')"
   ]
  },
  {
   "cell_type": "code",
   "execution_count": null,
   "metadata": {},
   "outputs": [],
   "source": [
    "# display all documents in the collection\n",
    "for doc in collection.find({}):\n",
    "    print(doc.get('_id'), doc.get('textContent')[0:40], doc.get('vectorContent')[0:5])"
   ]
  },
  {
   "attachments": {},
   "cell_type": "markdown",
   "metadata": {},
   "source": [
    "# Step #4 Vector Search and Question Answering with OpenAI GPT-3.5 Turbo"
   ]
  },
  {
   "cell_type": "code",
   "execution_count": 47,
   "metadata": {},
   "outputs": [],
   "source": [
    "# Cosmos DB Vector Search API Command\n",
    "def vector_search(vector_query, max_number_of_results=2):\n",
    "  results = collection.aggregate([\n",
    "    {\n",
    "      '$search': {\n",
    "        \"cosmosSearch\": {\n",
    "          \"vector\": vector_query,\n",
    "          \"path\": \"vectorContent\",\n",
    "          \"k\": max_number_of_results\n",
    "        },\n",
    "      \"returnStoredSource\": True\n",
    "      }\n",
    "    }\n",
    "  ])\n",
    "  return results\n",
    "\n",
    "\n",
    "# openAI request - ChatGPT 3.5 Turbo Model\n",
    "def openai_request(prompt, model_engine='gpt-3.5-turbo'):\n",
    "    completion = openai.ChatCompletion.create(model=model_engine, messages=prompt, temperature=0.2, max_tokens=500)\n",
    "    return completion.choices[0].message.content\n",
    "\n",
    "\n",
    "# define OpenAI Prompt for News Tweet\n",
    "def create_tweet_prompt(user_question, result_json):\n",
    "    instructions = f'You are an assistant that answers questions based on sources provided. \\\n",
    "    If the information is not in the provided source, you answer with \"I don\\'t know\". '\n",
    "    task = f\"{user_question} Translate the response to english /n \\\n",
    "    source: {result_json}\"\n",
    "    \n",
    "    prompt = [{\"role\": \"system\", \"content\": instructions }, \n",
    "              {\"role\": \"user\", \"content\": task }]\n",
    "\n",
    "    return prompt"
   ]
  },
  {
   "attachments": {},
   "cell_type": "markdown",
   "metadata": {},
   "source": [
    "# Step #5 Testing the Custom ChatGPT Solution"
   ]
  },
  {
   "cell_type": "code",
   "execution_count": 48,
   "metadata": {},
   "outputs": [
    {
     "name": "stdout",
     "output_type": "stream",
     "text": [
      "<pymongo.command_cursor.CommandCursor object at 0x0000024CB48B8550>\n"
     ]
    },
    {
     "data": {
      "text/plain": [
       "ObjectId('6471e32e9f3b7af98400a1e1')"
      ]
     },
     "metadata": {},
     "output_type": "display_data"
    },
    {
     "data": {
      "text/plain": [
       "'4Wer hat im Kalenderjahr 2023 \\neine\\xa0Steuererklärung 2022 \\n einzureichen?Eine Steuererklärung 2022 haben im Kalenderjahr 2023 alle natürlichen Personen einzureichen, \\ndie am 31.Dezember 2022\\n• im Kanton Zürich Wohnsitz hatten oder\\n• im Kanton Zürich Liegenschaften oder Betriebsstätten (bzw.Geschäftsbetriebe)  besassen.Zudem haben Steuerpflichtige mit Wohnsitz in einem anderen Kanton auch dann erst im \\n Kalenderjahr 2023 eine Steuererklärung 2022 einzureichen, wenn sie im Laufe des Kalender -\\njahres 2022 ihre Steuerpflicht im Kanton Zürich durch Aufgabe einer Liegenschaft oder Be -\\ntriebsstätte beendet haben.Die Stellung der Partnerinnen oder Partner bei eingetragenen Partnerschaften entspricht seit \\ndem 1.Januar 2007 derjenigen von Ehegatten.Ausführungen unter dem Titel «Ehegatten» \\ngelten auch für Partnerinnen oder Partner.Beim Ausfüllen der Steuererklärung sind die Anga-\\nben derjenigen Person, deren Nachname alphabetisch an erster Stelle kommt, unter dem Titel \\n«Person 1 (Einzelperson, Ehemann, Partner/Partnerin 1)», die Angaben der anderen Person \\nunter dem Titel «Person 2 (Ehefrau, Partner/Partnerin 2)» zu machen.Steuerpflichtige, die in der Steuerperiode 2022 volljährig geworden sind (Personen des Jahr -\\ngangs 2004), haben im Kalenderjahr 2023 erstmals eine eigene Steuererklärung (für die Steuer -\\nperiode 2022) einzureichen.'"
      ]
     },
     "metadata": {},
     "output_type": "display_data"
    },
    {
     "data": {
      "text/plain": [
       "[0.0041758399456739426,\n",
       " -0.011536800302565098,\n",
       " 0.013691077008843422,\n",
       " -0.027678443118929863,\n",
       " -0.0051819924265146255]"
      ]
     },
     "metadata": {},
     "output_type": "display_data"
    },
    {
     "data": {
      "text/plain": [
       "[{'role': 'system',\n",
       "  'content': 'You are an assistant that answers questions based on sources provided.     If the information is not in the provided source, you answer with \"I don\\'t know\". '},\n",
       " {'role': 'user',\n",
       "  'content': \"Wann muss ich meine Steuererklärung einreichen? Translate the response to english /n     source: ['4Wer hat im Kalenderjahr 2023 \\\\neine\\\\xa0Steuererklärung 2022 \\\\n einzureichen?Eine Steuererklärung 2022 haben im Kalenderjahr 2023 alle natürlichen Personen einzureichen, \\\\ndie am 31.Dezember 2022\\\\n• im Kanton Zürich Wohnsitz hatten oder\\\\n• im Kanton Zürich Liegenschaften oder Betriebsstätten (bzw.Geschäftsbetriebe)  besassen.Zudem haben Steuerpflichtige mit Wohnsitz in einem anderen Kanton auch dann erst im \\\\n Kalenderjahr 2023 eine Steuererklärung 2022 einzureichen, wenn sie im Laufe des Kalender -\\\\njahres 2022 ihre Steuerpflicht im Kanton Zürich durch Aufgabe einer Liegenschaft oder Be -\\\\ntriebsstätte beendet haben.Die Stellung der Partnerinnen oder Partner bei eingetragenen Partnerschaften entspricht seit \\\\ndem 1.Januar 2007 derjenigen von Ehegatten.Ausführungen unter dem Titel «Ehegatten» \\\\ngelten auch für Partnerinnen oder Partner.Beim Ausfüllen der Steuererklärung sind die Anga-\\\\nben derjenigen Person, deren Nachname alphabetisch an erster Stelle kommt, unter dem Titel \\\\n«Person 1 (Einzelperson, Ehemann, Partner/Partnerin 1)», die Angaben der anderen Person \\\\nunter dem Titel «Person 2 (Ehefrau, Partner/Partnerin 2)» zu machen.Steuerpflichtige, die in der Steuerperiode 2022 volljährig geworden sind (Personen des Jahr -\\\\ngangs 2004), haben im Kalenderjahr 2023 erstmals eine eigene Steuererklärung (für die Steuer -\\\\nperiode 2022) einzureichen.']\"}]"
      ]
     },
     "metadata": {},
     "output_type": "display_data"
    },
    {
     "data": {
      "text/plain": [
       "'User question: When do I have to submit my tax return?'"
      ]
     },
     "metadata": {},
     "output_type": "display_data"
    },
    {
     "data": {
      "text/plain": [
       "'OpenAI response: When do I have to submit my tax return? \\n\\nAll natural persons who had their residence in the canton of Zurich on December 31, 2022, or who owned properties or business premises (or business operations) in the canton of Zurich, must submit a tax return for 2022 in the calendar year 2023. Taxpayers with a residence in another canton also have to submit a tax return for 2022 in the calendar year 2023 if they ended their tax liability in the canton of Zurich by giving up a property or business premises during the calendar year 2022. If you turned 18 in the tax period 2022 (persons born in 2004), you must submit your own tax return (for the tax period 2022) for the first time in the calendar year 2023.'"
      ]
     },
     "metadata": {},
     "output_type": "display_data"
    }
   ],
   "source": [
    "# define OpenAI Prompt \n",
    "users_question = \"When do I have to submit my tax return?\"\n",
    "\n",
    "# generate embeddings for the question\n",
    "user_question_embeddings = create_embeddings_with_openai(user_question)\n",
    "\n",
    "# search for the question in the cosmos db\n",
    "search_results = vector_search(user_question_embeddings, 1)\n",
    "print(search_results)\n",
    "\n",
    "# prepare the results for the openai prompt\n",
    "result_json = []\n",
    "\n",
    "# print each document in the result\n",
    "# remove all empty values from the results json\n",
    "search_results = [x for x in search_results if x]\n",
    "for doc in search_results:\n",
    "    display(doc.get('_id'), doc.get('textContent'), doc.get('vectorContent')[0:5])\n",
    "    result_json.append(doc.get('textContent'))\n",
    "\n",
    "\n",
    "# create the prompt\n",
    "prompt = create_tweet_prompt(user_question, result_json)\n",
    "display(prompt)\n",
    "\n",
    "# generate the response\n",
    "response = openai_request(prompt)\n",
    "\n",
    "display(f'User question: {users_question}')\n",
    "display(f'OpenAI response: {response}')"
   ]
  },
  {
   "attachments": {},
   "cell_type": "markdown",
   "metadata": {},
   "source": [
    "# Step #6 Visualizing the Embeddings "
   ]
  },
  {
   "cell_type": "code",
   "execution_count": 52,
   "metadata": {},
   "outputs": [
    {
     "data": {
      "image/png": "[encoded data removed]",
      "text/plain": [
       "<Figure size 640x480 with 1 Axes>"
      ]
     },
     "metadata": {},
     "output_type": "display_data"
    }
   ],
   "source": [
    "from sklearn.decomposition import PCA\n",
    "from matplotlib import pyplot as plt\n",
    "\n",
    "# get all the embeddings from the vector db\n",
    "all_embeddings = []\n",
    "for doc in collection.find({}):\n",
    "    all_embeddings.append(doc.get('vectorContent'))\n",
    "\n",
    "# reduce the dimensionality of the vectors to two dimensions\n",
    "pca = PCA(n_components=2)\n",
    "pca.fit(all_embeddings)\n",
    "reduced_embeddings = pca.transform(all_embeddings)\n",
    "\n",
    "# plot the reduced embeddings\n",
    "plt.scatter(reduced_embeddings[:,0], reduced_embeddings[:,1])\n",
    "plt.show()\n"
   ]
  }
 ],
 "metadata": {
  "kernelspec": {
   "display_name": "base",
   "language": "python",
   "name": "python3"
  },
  "language_info": {
   "codemirror_mode": {
    "name": "ipython",
    "version": 3
   },
   "file_extension": ".py",
   "mimetype": "text/x-python",
   "name": "python",
   "nbconvert_exporter": "python",
   "pygments_lexer": "ipython3",
   "version": "3.9.13"
  },
  "orig_nbformat": 4
 },
 "nbformat": 4,
 "nbformat_minor": 2
}
